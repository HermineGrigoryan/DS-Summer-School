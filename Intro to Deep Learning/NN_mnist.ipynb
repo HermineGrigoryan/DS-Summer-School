{
  "nbformat": 4,
  "nbformat_minor": 0,
  "metadata": {
    "colab": {
      "name": "NN - mnist.ipynb",
      "version": "0.3.2",
      "provenance": []
    },
    "kernelspec": {
      "name": "python3",
      "display_name": "Python 3"
    }
  },
  "cells": [
    {
      "cell_type": "code",
      "metadata": {
        "id": "IxN0c-c_0R69",
        "colab_type": "code",
        "colab": {}
      },
      "source": [
        "import keras\n",
        "import matplotlib\n",
        "%matplotlib inline\n",
        "from matplotlib import pyplot as plt\n",
        "\n",
        "from keras.models import Sequential\n",
        "from keras.layers import Dense, Flatten # wx+b dense, fully-connected, linear layer"
      ],
      "execution_count": 0,
      "outputs": []
    },
    {
      "cell_type": "markdown",
      "metadata": {
        "id": "zyshXkyR6Th1",
        "colab_type": "text"
      },
      "source": [
        "### 1. Representing data in a correct shape."
      ]
    },
    {
      "cell_type": "code",
      "metadata": {
        "id": "lG6xOhTU0ti8",
        "colab_type": "code",
        "colab": {}
      },
      "source": [
        "(x_train, y_train), (x_test, y_test) = keras.datasets.mnist.load_data()"
      ],
      "execution_count": 0,
      "outputs": []
    },
    {
      "cell_type": "code",
      "metadata": {
        "id": "nhrqUlX30-yr",
        "colab_type": "code",
        "colab": {
          "base_uri": "https://localhost:8080/",
          "height": 35
        },
        "outputId": "a58147e6-d00f-47a8-b757-1a0a815fafb7"
      },
      "source": [
        "x_train.shape"
      ],
      "execution_count": 24,
      "outputs": [
        {
          "output_type": "execute_result",
          "data": {
            "text/plain": [
              "(60000, 28, 28)"
            ]
          },
          "metadata": {
            "tags": []
          },
          "execution_count": 24
        }
      ]
    },
    {
      "cell_type": "code",
      "metadata": {
        "id": "xXQprgLY1UE6",
        "colab_type": "code",
        "colab": {
          "base_uri": "https://localhost:8080/",
          "height": 35
        },
        "outputId": "61f3d2d8-b304-45d6-a9ec-45679b358ec2"
      },
      "source": [
        "x_train[0].max()"
      ],
      "execution_count": 25,
      "outputs": [
        {
          "output_type": "execute_result",
          "data": {
            "text/plain": [
              "255"
            ]
          },
          "metadata": {
            "tags": []
          },
          "execution_count": 25
        }
      ]
    },
    {
      "cell_type": "code",
      "metadata": {
        "id": "enpS1aNy1f6y",
        "colab_type": "code",
        "colab": {
          "base_uri": "https://localhost:8080/",
          "height": 287
        },
        "outputId": "8121c12a-9b1e-4b04-b516-563c11eb6960"
      },
      "source": [
        "plt.figure()\n",
        "plt.imshow(x_train[0])"
      ],
      "execution_count": 26,
      "outputs": [
        {
          "output_type": "execute_result",
          "data": {
            "text/plain": [
              "<matplotlib.image.AxesImage at 0x7fe4f516fba8>"
            ]
          },
          "metadata": {
            "tags": []
          },
          "execution_count": 26
        },
        {
          "output_type": "display_data",
          "data": {
            "image/png": "[encoded data removed]",
            "text/plain": [
              "<Figure size 432x288 with 1 Axes>"
            ]
          },
          "metadata": {
            "tags": []
          }
        }
      ]
    },
    {
      "cell_type": "code",
      "metadata": {
        "id": "X3Oel5cl2dAM",
        "colab_type": "code",
        "colab": {
          "base_uri": "https://localhost:8080/",
          "height": 35
        },
        "outputId": "97518ea3-92ce-4d69-e619-575368954c47"
      },
      "source": [
        "y_train[0]"
      ],
      "execution_count": 27,
      "outputs": [
        {
          "output_type": "execute_result",
          "data": {
            "text/plain": [
              "5"
            ]
          },
          "metadata": {
            "tags": []
          },
          "execution_count": 27
        }
      ]
    },
    {
      "cell_type": "code",
      "metadata": {
        "id": "uXHa-PVQ2juZ",
        "colab_type": "code",
        "colab": {}
      },
      "source": [
        "y_train_one_hot = keras.utils.to_categorical(y_train, 10)"
      ],
      "execution_count": 0,
      "outputs": []
    },
    {
      "cell_type": "code",
      "metadata": {
        "id": "Cvg1uPi43DFM",
        "colab_type": "code",
        "colab": {
          "base_uri": "https://localhost:8080/",
          "height": 35
        },
        "outputId": "c10a4b96-cebb-40da-f917-96270b8e6d19"
      },
      "source": [
        "y_train_one_hot[0]"
      ],
      "execution_count": 29,
      "outputs": [
        {
          "output_type": "execute_result",
          "data": {
            "text/plain": [
              "array([0., 0., 0., 0., 0., 1., 0., 0., 0., 0.], dtype=float32)"
            ]
          },
          "metadata": {
            "tags": []
          },
          "execution_count": 29
        }
      ]
    },
    {
      "cell_type": "code",
      "metadata": {
        "id": "BvhK3Fc13G7J",
        "colab_type": "code",
        "colab": {}
      },
      "source": [
        "x_dev = x_train[50000:]\n",
        "y_dev = y_train_one_hot[50000:]"
      ],
      "execution_count": 0,
      "outputs": []
    },
    {
      "cell_type": "code",
      "metadata": {
        "id": "xIFU2nPu3vPp",
        "colab_type": "code",
        "colab": {}
      },
      "source": [
        "x_train = x_train[:50000]\n",
        "y_train = y_train_one_hot[:50000]"
      ],
      "execution_count": 0,
      "outputs": []
    },
    {
      "cell_type": "code",
      "metadata": {
        "id": "eJFvByvX4jP-",
        "colab_type": "code",
        "colab": {
          "base_uri": "https://localhost:8080/",
          "height": 35
        },
        "outputId": "0d5ed9f3-eefa-4724-fac0-ff3ff802bd1b"
      },
      "source": [
        "x_train.shape, y_train.shape, x_dev.shape, y_dev.shape"
      ],
      "execution_count": 34,
      "outputs": [
        {
          "output_type": "execute_result",
          "data": {
            "text/plain": [
              "((50000, 28, 28), (50000, 10), (10000, 28, 28), (10000, 10))"
            ]
          },
          "metadata": {
            "tags": []
          },
          "execution_count": 34
        }
      ]
    },
    {
      "cell_type": "code",
      "metadata": {
        "id": "vfxL48wz46qJ",
        "colab_type": "code",
        "colab": {
          "base_uri": "https://localhost:8080/",
          "height": 35
        },
        "outputId": "cba710c3-4f91-4d2c-8c6c-2090aa59c2ae"
      },
      "source": [
        "x_train[0].dtype"
      ],
      "execution_count": 35,
      "outputs": [
        {
          "output_type": "execute_result",
          "data": {
            "text/plain": [
              "dtype('uint8')"
            ]
          },
          "metadata": {
            "tags": []
          },
          "execution_count": 35
        }
      ]
    },
    {
      "cell_type": "code",
      "metadata": {
        "id": "O7Ud1Qp95s-y",
        "colab_type": "code",
        "colab": {}
      },
      "source": [
        "x_train = x_train.astype('float32') /255\n",
        "x_dev = x_dev.astype('float32') /255\n",
        "x_test = x_test.astype('float32') /255"
      ],
      "execution_count": 0,
      "outputs": []
    },
    {
      "cell_type": "markdown",
      "metadata": {
        "id": "ljdATzxx6cqG",
        "colab_type": "text"
      },
      "source": [
        "### 2. Choose the family of functions"
      ]
    },
    {
      "cell_type": "code",
      "metadata": {
        "id": "2qWEjB6O5zfR",
        "colab_type": "code",
        "colab": {}
      },
      "source": [
        "model = Sequential() #for adding layers\n",
        "model.add(Flatten()) #for giving the correct shape\n",
        "model.add(Dense(100, activation = \"relu\"))\n",
        "model.add(Dense(10, activation=\"softmax\"))"
      ],
      "execution_count": 0,
      "outputs": []
    },
    {
      "cell_type": "markdown",
      "metadata": {
        "id": "YePCGxUv8ZQU",
        "colab_type": "text"
      },
      "source": [
        "### 3. Select a strategy for finding the best function f from the chosen family"
      ]
    },
    {
      "cell_type": "code",
      "metadata": {
        "id": "sTpFKFF57cvE",
        "colab_type": "code",
        "colab": {}
      },
      "source": [
        "model.compile(loss=keras.losses.categorical_crossentropy,\n",
        "             optimizer=keras.optimizers.SGD(),\n",
        "              metrics=[\"accuracy\"]\n",
        "             )"
      ],
      "execution_count": 0,
      "outputs": []
    },
    {
      "cell_type": "code",
      "metadata": {
        "id": "Uu4Rl2il8Rfk",
        "colab_type": "code",
        "colab": {
          "base_uri": "https://localhost:8080/",
          "height": 505
        },
        "outputId": "7251e49f-579e-47a4-faad-db623bc1f353"
      },
      "source": [
        "model.fit(x_train, y_train, batch_size=128, epochs=10, verbose=1,\n",
        "         validation_data=[x_dev, y_dev]) #verbose = show the output or not\n",
        "\n",
        "# see the accuracy on the val set to see if there is overfitting"
      ],
      "execution_count": 49,
      "outputs": [
        {
          "output_type": "stream",
          "text": [
            "W0706 06:29:09.411282 140622376527744 deprecation.py:323] From /usr/local/lib/python3.6/dist-packages/tensorflow/python/ops/math_grad.py:1250: add_dispatch_support.<locals>.wrapper (from tensorflow.python.ops.array_ops) is deprecated and will be removed in a future version.\n",
            "Instructions for updating:\n",
            "Use tf.where in 2.0, which has the same broadcast rule as np.where\n",
            "W0706 06:29:09.467055 140622376527744 deprecation_wrapper.py:119] From /usr/local/lib/python3.6/dist-packages/keras/backend/tensorflow_backend.py:986: The name tf.assign_add is deprecated. Please use tf.compat.v1.assign_add instead.\n",
            "\n"
          ],
          "name": "stderr"
        },
        {
          "output_type": "stream",
          "text": [
            "Train on 50000 samples, validate on 10000 samples\n",
            "Epoch 1/10\n",
            "50000/50000 [==============================] - 3s 52us/step - loss: 1.2799 - acc: 0.6899 - val_loss: 0.7106 - val_acc: 0.8567\n",
            "Epoch 2/10\n",
            "50000/50000 [==============================] - 2s 37us/step - loss: 0.6181 - acc: 0.8544 - val_loss: 0.4844 - val_acc: 0.8830\n",
            "Epoch 3/10\n",
            "50000/50000 [==============================] - 2s 35us/step - loss: 0.4843 - acc: 0.8758 - val_loss: 0.4091 - val_acc: 0.8953\n",
            "Epoch 4/10\n",
            "50000/50000 [==============================] - 2s 36us/step - loss: 0.4272 - acc: 0.8863 - val_loss: 0.3712 - val_acc: 0.9017\n",
            "Epoch 5/10\n",
            "50000/50000 [==============================] - 2s 36us/step - loss: 0.3940 - acc: 0.8922 - val_loss: 0.3471 - val_acc: 0.9055\n",
            "Epoch 6/10\n",
            "50000/50000 [==============================] - 2s 35us/step - loss: 0.3713 - acc: 0.8974 - val_loss: 0.3305 - val_acc: 0.9104\n",
            "Epoch 7/10\n",
            "50000/50000 [==============================] - 2s 37us/step - loss: 0.3544 - acc: 0.9010 - val_loss: 0.3180 - val_acc: 0.9135\n",
            "Epoch 8/10\n",
            "50000/50000 [==============================] - 2s 37us/step - loss: 0.3413 - acc: 0.9040 - val_loss: 0.3074 - val_acc: 0.9163\n",
            "Epoch 9/10\n",
            "50000/50000 [==============================] - 2s 36us/step - loss: 0.3301 - acc: 0.9078 - val_loss: 0.2988 - val_acc: 0.9177\n",
            "Epoch 10/10\n",
            "50000/50000 [==============================] - 2s 35us/step - loss: 0.3206 - acc: 0.9101 - val_loss: 0.2914 - val_acc: 0.9188\n"
          ],
          "name": "stdout"
        },
        {
          "output_type": "execute_result",
          "data": {
            "text/plain": [
              "<keras.callbacks.History at 0x7fe4faa18e48>"
            ]
          },
          "metadata": {
            "tags": []
          },
          "execution_count": 49
        }
      ]
    },
    {
      "cell_type": "code",
      "metadata": {
        "id": "T3JP2zo0-QTa",
        "colab_type": "code",
        "colab": {
          "base_uri": "https://localhost:8080/",
          "height": 243
        },
        "outputId": "32aab195-19e5-4b84-f490-fc5dc19a7a8c"
      },
      "source": [
        "model.summary()\n",
        "# first layer - 28*28=784 vector \n",
        "# w(784*100)+100b=78500"
      ],
      "execution_count": 50,
      "outputs": [
        {
          "output_type": "stream",
          "text": [
            "_________________________________________________________________\n",
            "Layer (type)                 Output Shape              Param #   \n",
            "=================================================================\n",
            "flatten_1 (Flatten)          (None, 784)               0         \n",
            "_________________________________________________________________\n",
            "dense_3 (Dense)              (None, 100)               78500     \n",
            "_________________________________________________________________\n",
            "dense_4 (Dense)              (None, 10)                1010      \n",
            "=================================================================\n",
            "Total params: 79,510\n",
            "Trainable params: 79,510\n",
            "Non-trainable params: 0\n",
            "_________________________________________________________________\n"
          ],
          "name": "stdout"
        }
      ]
    },
    {
      "cell_type": "code",
      "metadata": {
        "id": "y077nxNbAjVa",
        "colab_type": "code",
        "colab": {
          "base_uri": "https://localhost:8080/",
          "height": 35
        },
        "outputId": "e6e26a18-c83b-4356-fe78-57baf903c71c"
      },
      "source": [
        "score = model.evaluate(x_test, keras.utils.to_categorical(y_test, 10))"
      ],
      "execution_count": 52,
      "outputs": [
        {
          "output_type": "stream",
          "text": [
            "10000/10000 [==============================] - 0s 27us/step\n"
          ],
          "name": "stdout"
        }
      ]
    },
    {
      "cell_type": "code",
      "metadata": {
        "id": "1YyA9awtBAJt",
        "colab_type": "code",
        "colab": {
          "base_uri": "https://localhost:8080/",
          "height": 35
        },
        "outputId": "9ad0004a-bf74-4dc6-acae-469c573f1a1d"
      },
      "source": [
        "print(score)"
      ],
      "execution_count": 55,
      "outputs": [
        {
          "output_type": "stream",
          "text": [
            "[0.3001124509632587, 0.9158]\n"
          ],
          "name": "stdout"
        }
      ]
    },
    {
      "cell_type": "code",
      "metadata": {
        "id": "vwpzEbYtF5w-",
        "colab_type": "code",
        "colab": {}
      },
      "source": [
        ""
      ],
      "execution_count": 0,
      "outputs": []
    }
  ]
}